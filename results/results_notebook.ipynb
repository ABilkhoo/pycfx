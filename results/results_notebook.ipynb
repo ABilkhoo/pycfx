{
 "cells": [
  {
   "cell_type": "code",
   "execution_count": 1,
   "id": "e1127995",
   "metadata": {},
   "outputs": [],
   "source": [
    "%load_ext autoreload\n",
    "%autoreload 2"
   ]
  },
  {
   "cell_type": "code",
   "execution_count": null,
   "id": "99fd57ec",
   "metadata": {},
   "outputs": [],
   "source": [
    "import sys, os\n",
    "sys.path.append(os.path.abspath(\"..\"))\n",
    "\n",
    "from pycfx.datasets import *\n",
    "from pycfx.models import *\n",
    "from pycfx.benchmarker import *\n",
    "from pycfx.helpers.visualisation import *\n",
    "from pycfx.conformal import *\n",
    "from pycfx.counterfactual_explanations import *\n",
    "\n",
    "from datetime import datetime\n",
    "\n",
    "print(f\"Start {datetime.now()}\")\n",
    "\n",
    "\n",
    "dataset_cls = CaliforniaHousing\n",
    "mlp_config = {\"epochs\": 100, \"batch_size\": 64}\n",
    "# mlp_config = {\"epochs\": 50, \"batch_size\": 256}\n",
    "\n",
    "is_rf = False\n",
    "\n",
    "print(f\"Start {datetime.now()}\")\n",
    "mlp_config = {\"epochs\": 100, \"batch_size\": 64}\n",
    "\n",
    "dataset = dataset_cls(0.6, 0.2, 0.2)\n",
    "model_factories = []\n",
    "\n",
    "if is_rf:\n",
    "    factory = ModelFactory(RandomForestSKLearn, dataset.input_properties, config={}, config_multi={})\n",
    "    model_factories.append(factory)\n",
    "else:\n",
    "    factory = ModelFactory(PyTorchMLP, dataset.input_properties, config=mlp_config, config_multi={})\n",
    "    model_factories.append(factory)\n",
    "\n",
    "n_factuals_main = 100\n",
    "n_repeats = 2\n",
    "path = Path(\"results_path\")\n",
    "use_pretrained = True\n",
    "\n",
    "metrics = [\n",
    "    FailuresMetric(), \n",
    "    DistanceMetric(), \n",
    "    ValidityMetric(),  \n",
    "    ImplausibilityMetric(included_prop=0.1), \n",
    "    ImplausibilityMetric(included_prop=1),\n",
    "    LOFMetric(n_neighbours=20, stratified=True),\n",
    "    SensitivityMetric(n_sensitivity=25, n_neighbours=4, budget=0.001), \n",
    "    StabilityMetric(n_neighbours=8, budget=0.001),\n",
    "]\n",
    "\n",
    "conformal_config = {\n",
    "    \"alpha\": [0.01, 0.05, 0.1], \"scorefn_name\": [\"linear_normalised\" if is_rf else \"linear2\"], \"kernel_bandwidth\": [0.05, 0.1, 0.15, 0.2, 0.25, 0.3, 0.35, 0.4, 0.45], \n",
    "}\n",
    "\n",
    "generators = [\n",
    "    GeneratorFactory([MinDistanceCF], config={}, config_multi={}),\n",
    "\n",
    "    GeneratorFactory([ConformalCF], config={\"conformal_class\": SplitConformalPrediction}, config_multi={\"conformal_config\": {\"alpha\": [0.01, 0.05, 0.1]}}),\n",
    "\n",
    "    GeneratorFactory([ConformalCF], config={\"conformal_class\": ConformalCONFEXTree}, config_multi={\n",
    "        \"conformal_config\": conformal_config\n",
    "    }),\n",
    "]\n",
    "\n",
    "if is_rf:\n",
    "    generators.extend([\n",
    "        GeneratorFactory([FOCUSGenerator], config={\"n_iter\": 200}, config_multi={}),\n",
    "        GeneratorFactory([FeatureTweakGenerator], config={\"epsilon\": 0.01}, config_multi={})\n",
    "    ])\n",
    "else:\n",
    "    f1 = GeneratorFactory([WachterGenerator], config={\"mad\": True, \"new\": 3}, config_multi={})\n",
    "    f2 = GeneratorFactory([SchutGenerator], config={\"new\": True, \"new2\": 3}, config_multi={})\n",
    "    f3 = GeneratorFactory([ECCCOGenerator], config={\"new\": 3}, config_multi={\"conformal_config\": {\"alpha\": [0.01, 0.05, 0.1]}})\n",
    "    generators.extend([f1, f2, f3])\n",
    "    \n",
    "\n",
    "## Do not modify below\n",
    "print(\"Initializing CFBenchmarker...\")\n",
    "benchmarker = CFBenchmarker(dataset, n_factuals_main, n_repeats, metrics, model_factories, generators, path, use_pretrained=use_pretrained)\n",
    "\n",
    "print(\"Setting up models...\")\n",
    "benchmarker.setup_models()\n",
    "\n",
    "print(\"Evaluating models...\")\n",
    "benchmarker.evaluate_models()\n",
    "\n",
    "print(\"Setting factuals...\")\n",
    "benchmarker.set_factuals()\n",
    "\n",
    "print(\"Initializing generators...\")\n",
    "benchmarker.initialise_generators()\n",
    "\n",
    "print(\"Generating counterfactuals...\")\n",
    "# benchmarker.get_counterfactuals(reset=not use_pretrained)\n",
    "\n",
    "print(\"Evaluating counterfactuals...\")\n",
    "# df_out = benchmarker.evaluate_counterfactuals()\n",
    "\n",
    "\n",
    "print(\"Test conformal...\")\n",
    "benchmarker.test_conformal()\n",
    "\n",
    "\n",
    "print(f\"Evaluation complete. See {path}\")\n",
    "print(f\"End {datetime.now()}\")\n",
    "\n"
   ]
  },
  {
   "cell_type": "code",
   "execution_count": null,
   "id": "0dc4dcf9",
   "metadata": {},
   "outputs": [],
   "source": [
    "structure = [\"MinDist\", \"Wachter\", \"Greedy\", \"ConfexNaive\", \"ECCCo\", \"ConfexTree\"]\n",
    "indent_map = {\"ConfexNaive\": [\"\\\\alpha\"], \"ECCCo\": [\"\\\\alpha\"], \"ConfexTree\": [\"\\\\alpha\", \"\\\\text{bw}\"]}\n",
    "format_map = {\"Wachter\": \"WachterGenerator\", \"Greedy\": \"SchutGenerator\", \"MinDist\": \"MinDistanceCF\", \"ECCCo\": \"ECCCOGenerator\", \"ConfexNaive\": \"SplitConformalPrediction\", \"ConfexTree\": \"ConformalCONFEXTree\", \"\\\\alpha\": \"alpha\", \"\\\\text{bw}\": \"kernel_bandwidth\"}\n",
    "formatted_col_names = [\"Distance\", \"Plausibility\", \"Implausibility\", \"Sensitivity $(10^{-1})$\", \"Stability\"]"
   ]
  },
  {
   "cell_type": "code",
   "execution_count": null,
   "id": "fd4e3841",
   "metadata": {},
   "outputs": [],
   "source": [
    "benchmarker.generate_table(formatted_col_names, structure, indent_map, format_map, scaling=[(3, 0.1)], dp2=True)"
   ]
  },
  {
   "cell_type": "code",
   "execution_count": null,
   "id": "fdeb2f6c",
   "metadata": {},
   "outputs": [],
   "source": [
    "benchmarker.generate_conformal_sim_plot()"
   ]
  },
  {
   "cell_type": "code",
   "execution_count": null,
   "id": "9221c85a",
   "metadata": {},
   "outputs": [],
   "source": [
    "benchmarker.get_alpha_bandwidth_plots()"
   ]
  },
  {
   "cell_type": "code",
   "execution_count": null,
   "id": "4beca432",
   "metadata": {},
   "outputs": [],
   "source": [
    "structure = [\"ConfexNaive\", \"ConfexTree\"]\n",
    "indent_map = {\"ConfexNaive\": [\"\\\\alpha\"], \"ConfexTree\": [\"\\\\alpha\", \"\\\\text{bw}\"]}\n",
    "format_map = {\"ConfexNaive\": \"SplitConformalPrediction\", \"ConfexTree\": \"ConformalCONFEXTree\", \"\\\\alpha\": \"alpha\", \"\\\\text{bw}\": \"kernel_bandwidth\"}"
   ]
  },
  {
   "cell_type": "code",
   "execution_count": null,
   "id": "1b7251b4",
   "metadata": {},
   "outputs": [],
   "source": [
    "rc = benchmarker.generate_conformal_table(structure, indent_map, format_map)"
   ]
  }
 ],
 "metadata": {
  "kernelspec": {
   "display_name": "confexplus",
   "language": "python",
   "name": "python3"
  },
  "language_info": {
   "codemirror_mode": {
    "name": "ipython",
    "version": 3
   },
   "file_extension": ".py",
   "mimetype": "text/x-python",
   "name": "python",
   "nbconvert_exporter": "python",
   "pygments_lexer": "ipython3",
   "version": "3.10.15"
  }
 },
 "nbformat": 4,
 "nbformat_minor": 5
}
